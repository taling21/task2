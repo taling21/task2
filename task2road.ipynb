{
 "cells": [
  {
   "cell_type": "code",
   "execution_count": null,
   "id": "752134ea",
   "metadata": {},
   "outputs": [],
   "source": [
    "import tensorflow as tf  \n",
    "import pandas as pd\n",
    "import numpy as np\n",
    "import matplotlib.pyplot as plt\n",
    "import keras \n",
    "import glob\n",
    "import cv2\n",
    "from skimage import color\n",
    "from skimage import io"
   ]
  },
  {
   "cell_type": "code",
   "execution_count": null,
   "id": "a51bb5e3",
   "metadata": {},
   "outputs": [],
   "source": [
    "train_files=glob.glob(\"C:/Users/TANIL GUPTA/Downloads/archive/flowers/*/**\")\n",
    "train_files"
   ]
  },
  {
   "cell_type": "code",
   "execution_count": null,
   "id": "30211d70",
   "metadata": {},
   "outputs": [],
   "source": [
    "from random import shuffle\n",
    "shuffle(train_files)\n",
    "train_files"
   ]
  },
  {
   "cell_type": "code",
   "execution_count": null,
   "id": "bb0f77c2",
   "metadata": {},
   "outputs": [],
   "source": [
    "from PIL import Image\n",
    "img=Image.open(train_files[0])\n",
    "plt.imshow(img)\n",
    "imarr = np.array(img)\n",
    "imarr.shape"
   ]
  },
  {
   "cell_type": "code",
   "execution_count": null,
   "id": "8b2f0546",
   "metadata": {},
   "outputs": [],
   "source": [
    "newtrain =  cv2.resize(imarr, dsize=(128, 128), interpolation=cv2.INTER_CUBIC)\n",
    "newtrain.shape\n"
   ]
  },
  {
   "cell_type": "code",
   "execution_count": null,
   "id": "6fd05398",
   "metadata": {},
   "outputs": [],
   "source": [
    "X_train=np.zeros((len(train_files),256,256))\n",
    " \n",
    "Y_train=np.zeros(len(train_files),1)"
   ]
  },
  {
   "cell_type": "code",
   "execution_count": null,
   "id": "0d577982",
   "metadata": {},
   "outputs": [],
   "source": [
    "for i,ft in enumerate(train_files) :\n",
    "      img = io.imread(fi)\n",
    "      imgGray = color.rgb2gray(img)\n",
    "      im_array=np.array(imgGray)\n",
    "      if( im_array.shape[0]==256 and im_array.shape[1]==256):\n",
    "            X_train[i,:,:]= im_array\n",
    "\n",
    "            Y_train[i] = (ord(ft[47])-97) + ((ord(ft[48])-97)*10) +((ord(ft[49])-97)*100) + ((ord(ft[50])-97)*1000)"
   ]
  },
  {
   "cell_type": "code",
   "execution_count": null,
   "id": "1fdb6750",
   "metadata": {},
   "outputs": [],
   "source": [
    "X_train/255.0"
   ]
  },
  {
   "cell_type": "code",
   "execution_count": null,
   "id": "483b80aa",
   "metadata": {},
   "outputs": [],
   "source": [
    "model= keras.Sequential([\n",
    "    keras.layers.Conv2D(\n",
    "    filters=120,\n",
    "    kernel_size=3,\n",
    "    activation='relu',\n",
    "    input_shape=(256,256,1)\n",
    "    ),\n",
    "    keras.layers.Conv2D(\n",
    "    filters=24,\n",
    "    kernel_size=3,\n",
    "    activation='relu',\n",
    "    ),\n",
    "    keras.layers.Flatten(),\n",
    "    keras.layers.Dense(\n",
    "        units=96,\n",
    "        activation='relu',\n",
    "    ),\n",
    "    keras.layers.Dense(25000,activation='softmax')\n",
    "    \n",
    "])"
   ]
  },
  {
   "cell_type": "code",
   "execution_count": null,
   "id": "906af206",
   "metadata": {},
   "outputs": [],
   "source": [
    "model.compile(optimizer=tf.keras.optimizers.Adam(learning_rate=1e-3),\n",
    "             loss='sparse_categorical_crossentropy',\n",
    "             metrics=['accuracy'])"
   ]
  },
  {
   "cell_type": "code",
   "execution_count": null,
   "id": "d012701b",
   "metadata": {},
   "outputs": [],
   "source": [
    "model.summary()"
   ]
  },
  {
   "cell_type": "code",
   "execution_count": null,
   "id": "1f855ee6",
   "metadata": {},
   "outputs": [],
   "source": [
    "X_train=X_train.reshape(len(X_train),256,256,1)"
   ]
  },
  {
   "cell_type": "code",
   "execution_count": null,
   "id": "91cb97bc",
   "metadata": {},
   "outputs": [],
   "source": [
    "model.fit(X_train, Y_train,epochs=10,validation_split=0.1)"
   ]
  }
 ],
 "metadata": {
  "kernelspec": {
   "display_name": "Python 3 (ipykernel)",
   "language": "python",
   "name": "python3"
  },
  "language_info": {
   "codemirror_mode": {
    "name": "ipython",
    "version": 3
   },
   "file_extension": ".py",
   "mimetype": "text/x-python",
   "name": "python",
   "nbconvert_exporter": "python",
   "pygments_lexer": "ipython3",
   "version": "3.9.12"
  }
 },
 "nbformat": 4,
 "nbformat_minor": 5
}
